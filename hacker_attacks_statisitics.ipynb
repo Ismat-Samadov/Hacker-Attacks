{
 "cells": [
  {
   "cell_type": "code",
   "execution_count": 1,
   "id": "b60dbc33-39d1-45ee-a5c3-7f98f9cf17a0",
   "metadata": {},
   "outputs": [
    {
     "name": "stderr",
     "output_type": "stream",
     "text": [
      "C:\\Users\\Ismat\\AppData\\Local\\Temp/ipykernel_1152/1225880390.py:16: TqdmDeprecationWarning: This function will be removed in tqdm==5.0.0\n",
      "Please use `tqdm.notebook.*` instead of `tqdm._tqdm_notebook.*`\n",
      "  from tqdm._tqdm_notebook import tqdm_notebook\n",
      "[nltk_data] Downloading package words to\n",
      "[nltk_data]     C:\\Users\\Ismat\\AppData\\Roaming\\nltk_data...\n",
      "[nltk_data]   Package words is already up-to-date!\n"
     ]
    }
   ],
   "source": [
    "import matplotlib.pyplot as plt\n",
    "import datetime as dt\n",
    "import missingno as msno\n",
    "import os\n",
    "import seaborn as sns\n",
    "import numpy as np\n",
    "import pandas as pd\n",
    "from geopy.geocoders import Nominatim\n",
    "#%load_ext autotime\n",
    "import geopandas as gpd\n",
    "import geopy\n",
    "from geopy.extra.rate_limiter import RateLimiter\n",
    "import matplotlib.pyplot as plt\n",
    "import plotly_express as px\n",
    "import tqdm\n",
    "from tqdm._tqdm_notebook import tqdm_notebook\n",
    "import folium\n",
    "import opencage\n",
    "from opencage.geocoder import OpenCageGeocode\n",
    "import pprint\n",
    "import reverse_geocoder\n",
    "from warnings import filterwarnings\n",
    "filterwarnings('ignore')\n",
    "import googletrans\n",
    "from googletrans import Translator\n",
    "import pycountry\n",
    "from country_list import available_languages\n",
    "import nltk\n",
    "nltk.download('words')\n",
    "from nltk.corpus import words"
   ]
  },
  {
   "cell_type": "code",
   "execution_count": null,
   "id": "d6392ae0-cdd2-42be-b699-29cf01ca1d16",
   "metadata": {},
   "outputs": [],
   "source": [
    "# Geodata with dates and times of hacking attempts on an Australian website. \n",
    "# Data was collected using fail2ban logs on a set of pre-defined rules as to what was considered a hacking attempt,\n",
    "# such as multiple failed login retries, repeated attempt to hit particular pages or applications that did not exist.\n",
    "# The data included an IP address, which was then transformed in to geospatial co-ordinates - as such, spoofed IP addresses or VPN use may skew results.\n",
    "\n",
    "    # https://www.kaggle.com/datasets/tastyworm/geodata-for-hacking-attempts"
   ]
  },
  {
   "cell_type": "code",
   "execution_count": 18,
   "id": "91496eac-57b2-427b-8865-20ab80b466e4",
   "metadata": {},
   "outputs": [
    {
     "data": {
      "text/html": [
       "<div>\n",
       "<style scoped>\n",
       "    .dataframe tbody tr th:only-of-type {\n",
       "        vertical-align: middle;\n",
       "    }\n",
       "\n",
       "    .dataframe tbody tr th {\n",
       "        vertical-align: top;\n",
       "    }\n",
       "\n",
       "    .dataframe thead th {\n",
       "        text-align: right;\n",
       "    }\n",
       "</style>\n",
       "<table border=\"1\" class=\"dataframe\">\n",
       "  <thead>\n",
       "    <tr style=\"text-align: right;\">\n",
       "      <th></th>\n",
       "      <th>lat</th>\n",
       "      <th>lng</th>\n",
       "      <th>datetime</th>\n",
       "    </tr>\n",
       "  </thead>\n",
       "  <tbody>\n",
       "    <tr>\n",
       "      <th>0</th>\n",
       "      <td>51.5085</td>\n",
       "      <td>-0.1257</td>\n",
       "      <td>2021-08-21 01:31:46</td>\n",
       "    </tr>\n",
       "    <tr>\n",
       "      <th>1</th>\n",
       "      <td>33.7215</td>\n",
       "      <td>73.0433</td>\n",
       "      <td>2021-08-21 01:30:35</td>\n",
       "    </tr>\n",
       "    <tr>\n",
       "      <th>2</th>\n",
       "      <td>18.5196</td>\n",
       "      <td>73.8554</td>\n",
       "      <td>2021-08-21 01:30:16</td>\n",
       "    </tr>\n",
       "    <tr>\n",
       "      <th>3</th>\n",
       "      <td>22.2783</td>\n",
       "      <td>114.1747</td>\n",
       "      <td>2021-08-21 01:29:35</td>\n",
       "    </tr>\n",
       "    <tr>\n",
       "      <th>4</th>\n",
       "      <td>48.1031</td>\n",
       "      <td>29.1260</td>\n",
       "      <td>2021-08-21 01:27:16</td>\n",
       "    </tr>\n",
       "    <tr>\n",
       "      <th>...</th>\n",
       "      <td>...</td>\n",
       "      <td>...</td>\n",
       "      <td>...</td>\n",
       "    </tr>\n",
       "    <tr>\n",
       "      <th>52513</th>\n",
       "      <td>52.3740</td>\n",
       "      <td>4.8897</td>\n",
       "      <td>2022-07-13 11:44:26</td>\n",
       "    </tr>\n",
       "    <tr>\n",
       "      <th>52514</th>\n",
       "      <td>36.3631</td>\n",
       "      <td>127.3729</td>\n",
       "      <td>2022-07-13 11:46:27</td>\n",
       "    </tr>\n",
       "    <tr>\n",
       "      <th>52515</th>\n",
       "      <td>10.8230</td>\n",
       "      <td>106.6296</td>\n",
       "      <td>2022-07-13 11:48:25</td>\n",
       "    </tr>\n",
       "    <tr>\n",
       "      <th>52516</th>\n",
       "      <td>36.3216</td>\n",
       "      <td>127.4193</td>\n",
       "      <td>2022-07-13 12:14:35</td>\n",
       "    </tr>\n",
       "    <tr>\n",
       "      <th>52517</th>\n",
       "      <td>30.2936</td>\n",
       "      <td>120.1614</td>\n",
       "      <td>2022-07-13 12:21:33</td>\n",
       "    </tr>\n",
       "  </tbody>\n",
       "</table>\n",
       "<p>52518 rows × 3 columns</p>\n",
       "</div>"
      ],
      "text/plain": [
       "           lat       lng             datetime\n",
       "0      51.5085   -0.1257  2021-08-21 01:31:46\n",
       "1      33.7215   73.0433  2021-08-21 01:30:35\n",
       "2      18.5196   73.8554  2021-08-21 01:30:16\n",
       "3      22.2783  114.1747  2021-08-21 01:29:35\n",
       "4      48.1031   29.1260  2021-08-21 01:27:16\n",
       "...        ...       ...                  ...\n",
       "52513  52.3740    4.8897  2022-07-13 11:44:26\n",
       "52514  36.3631  127.3729  2022-07-13 11:46:27\n",
       "52515  10.8230  106.6296  2022-07-13 11:48:25\n",
       "52516  36.3216  127.4193  2022-07-13 12:14:35\n",
       "52517  30.2936  120.1614  2022-07-13 12:21:33\n",
       "\n",
       "[52518 rows x 3 columns]"
      ]
     },
     "execution_count": 18,
     "metadata": {},
     "output_type": "execute_result"
    }
   ],
   "source": [
    "os.getcwd()\n",
    "data1=pd.read_csv(r'C:\\Users\\Ismat\\OneDrive\\Рабочий стол\\document\\etc\\kurslar\\lesson_course\\data\\hacking_attempts_geodata.csv')\n",
    "data1"
   ]
  },
  {
   "cell_type": "code",
   "execution_count": 3,
   "id": "3614e9e7-781e-43f6-aa37-1c9b33b8ecf8",
   "metadata": {},
   "outputs": [
    {
     "data": {
      "text/plain": [
       "(52518, 3)"
      ]
     },
     "execution_count": 3,
     "metadata": {},
     "output_type": "execute_result"
    }
   ],
   "source": [
    "data1.shape"
   ]
  },
  {
   "cell_type": "code",
   "execution_count": 4,
   "id": "2a2bf214-5369-481b-854c-1df0ba45c819",
   "metadata": {},
   "outputs": [
    {
     "data": {
      "text/plain": [
       "<AxesSubplot:>"
      ]
     },
     "execution_count": 4,
     "metadata": {},
     "output_type": "execute_result"
    },
    {
     "data": {
      "image/png": "[encoded data removed]",
      "text/plain": [
       "<Figure size 360x216 with 2 Axes>"
      ]
     },
     "metadata": {
      "needs_background": "light"
     },
     "output_type": "display_data"
    }
   ],
   "source": [
    "msno.matrix(data1,figsize=(5,3))"
   ]
  },
  {
   "cell_type": "code",
   "execution_count": 5,
   "id": "9cfca568-6acb-4f44-9654-c5af37b11755",
   "metadata": {},
   "outputs": [
    {
     "data": {
      "text/plain": [
       "lat         float64\n",
       "lng         float64\n",
       "datetime     object\n",
       "dtype: object"
      ]
     },
     "execution_count": 5,
     "metadata": {},
     "output_type": "execute_result"
    }
   ],
   "source": [
    "data1.dtypes"
   ]
  },
  {
   "cell_type": "code",
   "execution_count": 6,
   "id": "8f875c76-344e-47d8-bba8-a0a725a981df",
   "metadata": {},
   "outputs": [
    {
     "name": "stdout",
     "output_type": "stream",
     "text": [
      "<class 'pandas.core.frame.DataFrame'>\n",
      "RangeIndex: 52518 entries, 0 to 52517\n",
      "Data columns (total 3 columns):\n",
      " #   Column    Non-Null Count  Dtype  \n",
      "---  ------    --------------  -----  \n",
      " 0   lat       52518 non-null  float64\n",
      " 1   lng       52518 non-null  float64\n",
      " 2   datetime  52518 non-null  object \n",
      "dtypes: float64(2), object(1)\n",
      "memory usage: 1.2+ MB\n"
     ]
    }
   ],
   "source": [
    "data1.info()"
   ]
  },
  {
   "cell_type": "code",
   "execution_count": 7,
   "id": "bd4bcc1a-4965-4b3b-a28f-a22ce71f3769",
   "metadata": {},
   "outputs": [
    {
     "data": {
      "text/html": [
       "<div>\n",
       "<style scoped>\n",
       "    .dataframe tbody tr th:only-of-type {\n",
       "        vertical-align: middle;\n",
       "    }\n",
       "\n",
       "    .dataframe tbody tr th {\n",
       "        vertical-align: top;\n",
       "    }\n",
       "\n",
       "    .dataframe thead th {\n",
       "        text-align: right;\n",
       "    }\n",
       "</style>\n",
       "<table border=\"1\" class=\"dataframe\">\n",
       "  <thead>\n",
       "    <tr style=\"text-align: right;\">\n",
       "      <th></th>\n",
       "      <th>lat</th>\n",
       "      <th>lng</th>\n",
       "      <th>datetime</th>\n",
       "    </tr>\n",
       "  </thead>\n",
       "  <tbody>\n",
       "    <tr>\n",
       "      <th>441</th>\n",
       "      <td>39.9075</td>\n",
       "      <td>116.3972</td>\n",
       "      <td>2021-08-15 17:52:24</td>\n",
       "    </tr>\n",
       "    <tr>\n",
       "      <th>442</th>\n",
       "      <td>39.9075</td>\n",
       "      <td>116.3972</td>\n",
       "      <td>2021-08-15 17:52:24</td>\n",
       "    </tr>\n",
       "    <tr>\n",
       "      <th>10467</th>\n",
       "      <td>16.0678</td>\n",
       "      <td>108.2208</td>\n",
       "      <td>2021-08-28 17:20:33</td>\n",
       "    </tr>\n",
       "    <tr>\n",
       "      <th>10468</th>\n",
       "      <td>16.0678</td>\n",
       "      <td>108.2208</td>\n",
       "      <td>2021-08-28 17:20:33</td>\n",
       "    </tr>\n",
       "    <tr>\n",
       "      <th>17608</th>\n",
       "      <td>39.9075</td>\n",
       "      <td>116.3972</td>\n",
       "      <td>2021-09-10 10:51:30</td>\n",
       "    </tr>\n",
       "  </tbody>\n",
       "</table>\n",
       "</div>"
      ],
      "text/plain": [
       "           lat       lng             datetime\n",
       "441    39.9075  116.3972  2021-08-15 17:52:24\n",
       "442    39.9075  116.3972  2021-08-15 17:52:24\n",
       "10467  16.0678  108.2208  2021-08-28 17:20:33\n",
       "10468  16.0678  108.2208  2021-08-28 17:20:33\n",
       "17608  39.9075  116.3972  2021-09-10 10:51:30"
      ]
     },
     "execution_count": 7,
     "metadata": {},
     "output_type": "execute_result"
    }
   ],
   "source": [
    "data1[data1.duplicated(keep=False)].head(5)"
   ]
  },
  {
   "cell_type": "code",
   "execution_count": 8,
   "id": "e896d6fe-4b91-4261-83c2-63b01a57831f",
   "metadata": {},
   "outputs": [],
   "source": [
    "data1 = data1.drop_duplicates(keep='first')"
   ]
  },
  {
   "cell_type": "code",
   "execution_count": 19,
   "id": "20c905bc-5c32-4e19-9d0b-c2aea52b6b2b",
   "metadata": {},
   "outputs": [
    {
     "data": {
      "text/plain": [
       "lat         0\n",
       "lng         0\n",
       "datetime    0\n",
       "dtype: int64"
      ]
     },
     "execution_count": 19,
     "metadata": {},
     "output_type": "execute_result"
    }
   ],
   "source": [
    "# Null values\n",
    "data1.isna().sum()"
   ]
  },
  {
   "cell_type": "code",
   "execution_count": 20,
   "id": "ca3e6858-e012-4878-bbb9-ce9407532ca5",
   "metadata": {},
   "outputs": [
    {
     "data": {
      "text/plain": [
       "lat                float64\n",
       "lng                float64\n",
       "datetime    datetime64[ns]\n",
       "dtype: object"
      ]
     },
     "execution_count": 20,
     "metadata": {},
     "output_type": "execute_result"
    }
   ],
   "source": [
    "#changing to date\n",
    "data1['datetime'] = pd.to_datetime(data1['datetime'])\n",
    "data1.dtypes"
   ]
  },
  {
   "cell_type": "code",
   "execution_count": 21,
   "id": "7655d8c3-d2f5-4514-a296-11417736f546",
   "metadata": {},
   "outputs": [],
   "source": [
    "## hour\n",
    "data1['hours']=data1['datetime'].dt.hour\n",
    "#### Weekday with number\n",
    "data1['Weekday'] = data1['datetime'].dt.weekday\n",
    "# adding one  day for seven day week\n",
    "data1['Weekday']=data1['Weekday']+1\n",
    "#data1=data1.drop(labels='Weekday_name',axis=1)\n",
    "## year\n",
    "data1['Year'] = data1['datetime'].dt.year\n",
    "#### Day of year\n",
    "data1['Day_of_Year'] = data1['datetime'].dt.dayofyear\n",
    "#### Month with number\n",
    "data1['Month'] = data1['datetime'].dt.month\n",
    "#### Month with name\n",
    "data1['Month_name'] = data1['datetime'].dt.month_name()\n",
    "#### Difference from today\n",
    "data1['Day_difference'] = pd.datetime.today() - data1['datetime']"
   ]
  },
  {
   "cell_type": "code",
   "execution_count": 12,
   "id": "6deef965-20f8-409c-bfb0-1893200480e6",
   "metadata": {},
   "outputs": [
    {
     "data": {
      "text/html": [
       "<div>\n",
       "<style scoped>\n",
       "    .dataframe tbody tr th:only-of-type {\n",
       "        vertical-align: middle;\n",
       "    }\n",
       "\n",
       "    .dataframe tbody tr th {\n",
       "        vertical-align: top;\n",
       "    }\n",
       "\n",
       "    .dataframe thead th {\n",
       "        text-align: right;\n",
       "    }\n",
       "</style>\n",
       "<table border=\"1\" class=\"dataframe\">\n",
       "  <thead>\n",
       "    <tr style=\"text-align: right;\">\n",
       "      <th></th>\n",
       "      <th>lat</th>\n",
       "      <th>lng</th>\n",
       "      <th>datetime</th>\n",
       "      <th>hours</th>\n",
       "      <th>Weekday</th>\n",
       "      <th>Year</th>\n",
       "      <th>Day_of_Year</th>\n",
       "      <th>Month</th>\n",
       "      <th>Month_name</th>\n",
       "      <th>Day_difference</th>\n",
       "    </tr>\n",
       "  </thead>\n",
       "  <tbody>\n",
       "    <tr>\n",
       "      <th>0</th>\n",
       "      <td>51.5085</td>\n",
       "      <td>-0.1257</td>\n",
       "      <td>2021-08-21 01:31:46</td>\n",
       "      <td>1</td>\n",
       "      <td>6</td>\n",
       "      <td>2021</td>\n",
       "      <td>233</td>\n",
       "      <td>8</td>\n",
       "      <td>August</td>\n",
       "      <td>405 days 18:28:46.277344</td>\n",
       "    </tr>\n",
       "    <tr>\n",
       "      <th>1</th>\n",
       "      <td>33.7215</td>\n",
       "      <td>73.0433</td>\n",
       "      <td>2021-08-21 01:30:35</td>\n",
       "      <td>1</td>\n",
       "      <td>6</td>\n",
       "      <td>2021</td>\n",
       "      <td>233</td>\n",
       "      <td>8</td>\n",
       "      <td>August</td>\n",
       "      <td>405 days 18:29:57.277344</td>\n",
       "    </tr>\n",
       "    <tr>\n",
       "      <th>2</th>\n",
       "      <td>18.5196</td>\n",
       "      <td>73.8554</td>\n",
       "      <td>2021-08-21 01:30:16</td>\n",
       "      <td>1</td>\n",
       "      <td>6</td>\n",
       "      <td>2021</td>\n",
       "      <td>233</td>\n",
       "      <td>8</td>\n",
       "      <td>August</td>\n",
       "      <td>405 days 18:30:16.277344</td>\n",
       "    </tr>\n",
       "    <tr>\n",
       "      <th>3</th>\n",
       "      <td>22.2783</td>\n",
       "      <td>114.1747</td>\n",
       "      <td>2021-08-21 01:29:35</td>\n",
       "      <td>1</td>\n",
       "      <td>6</td>\n",
       "      <td>2021</td>\n",
       "      <td>233</td>\n",
       "      <td>8</td>\n",
       "      <td>August</td>\n",
       "      <td>405 days 18:30:57.277344</td>\n",
       "    </tr>\n",
       "    <tr>\n",
       "      <th>4</th>\n",
       "      <td>48.1031</td>\n",
       "      <td>29.1260</td>\n",
       "      <td>2021-08-21 01:27:16</td>\n",
       "      <td>1</td>\n",
       "      <td>6</td>\n",
       "      <td>2021</td>\n",
       "      <td>233</td>\n",
       "      <td>8</td>\n",
       "      <td>August</td>\n",
       "      <td>405 days 18:33:16.277344</td>\n",
       "    </tr>\n",
       "  </tbody>\n",
       "</table>\n",
       "</div>"
      ],
      "text/plain": [
       "       lat       lng            datetime  hours  Weekday  Year  Day_of_Year  \\\n",
       "0  51.5085   -0.1257 2021-08-21 01:31:46      1        6  2021          233   \n",
       "1  33.7215   73.0433 2021-08-21 01:30:35      1        6  2021          233   \n",
       "2  18.5196   73.8554 2021-08-21 01:30:16      1        6  2021          233   \n",
       "3  22.2783  114.1747 2021-08-21 01:29:35      1        6  2021          233   \n",
       "4  48.1031   29.1260 2021-08-21 01:27:16      1        6  2021          233   \n",
       "\n",
       "   Month Month_name           Day_difference  \n",
       "0      8     August 405 days 18:28:46.277344  \n",
       "1      8     August 405 days 18:29:57.277344  \n",
       "2      8     August 405 days 18:30:16.277344  \n",
       "3      8     August 405 days 18:30:57.277344  \n",
       "4      8     August 405 days 18:33:16.277344  "
      ]
     },
     "execution_count": 12,
     "metadata": {},
     "output_type": "execute_result"
    }
   ],
   "source": [
    "data1.head()"
   ]
  },
  {
   "cell_type": "code",
   "execution_count": 13,
   "id": "db777cea-de3e-4d1a-bc8a-1eb2ec2bdb16",
   "metadata": {},
   "outputs": [
    {
     "data": {
      "text/plain": [
       "lat      lng      \n",
       "39.9075   116.3972    4215\n",
       "22.2783   114.1747    2553\n",
       "1.3215    103.6957    1889\n",
       "52.3740   4.8897      1786\n",
       "40.8043  -74.0000     1661\n",
       "                      ... \n",
       "18.9554  -99.0000        1\n",
       "38.8276  -91.0000        1\n",
       "38.8339  -104.0000       1\n",
       "38.8404  -77.0000        1\n",
       "41.7814  -87.0000        1\n",
       "Length: 4055, dtype: int64"
      ]
     },
     "execution_count": 13,
     "metadata": {},
     "output_type": "execute_result"
    }
   ],
   "source": [
    "data1.groupby(['lat','lng']).size().sort_values(ascending=False)"
   ]
  },
  {
   "cell_type": "code",
   "execution_count": 14,
   "id": "d951247e-3e55-4afe-adbb-76c243fd41a6",
   "metadata": {},
   "outputs": [
    {
     "data": {
      "text/plain": [
       "lat                                65.0124\n",
       "lng                               177.5103\n",
       "datetime               2022-07-13 12:21:33\n",
       "hours                                   23\n",
       "Weekday                                  7\n",
       "Year                                  2022\n",
       "Day_of_Year                            365\n",
       "Month                                   12\n",
       "Month_name                       September\n",
       "Day_difference    411 days 19:56:28.277344\n",
       "dtype: object"
      ]
     },
     "execution_count": 14,
     "metadata": {},
     "output_type": "execute_result"
    }
   ],
   "source": [
    "data1.max()"
   ]
  },
  {
   "cell_type": "code",
   "execution_count": 15,
   "id": "32008da0-910b-4a0c-836f-154dacf493be",
   "metadata": {},
   "outputs": [
    {
     "data": {
      "text/plain": [
       "lat                                0.0389\n",
       "lng                                -159.0\n",
       "datetime              2021-08-15 00:04:04\n",
       "hours                                   0\n",
       "Weekday                                 1\n",
       "Year                                 2021\n",
       "Day_of_Year                             1\n",
       "Month                                   1\n",
       "Month_name                          April\n",
       "Day_difference    79 days 07:38:59.277344\n",
       "dtype: object"
      ]
     },
     "execution_count": 15,
     "metadata": {},
     "output_type": "execute_result"
    }
   ],
   "source": [
    "data1.min()"
   ]
  },
  {
   "cell_type": "code",
   "execution_count": null,
   "id": "bde04e55-840d-4a1f-84e5-5d814b5797b4",
   "metadata": {},
   "outputs": [],
   "source": [
    "data_last"
   ]
  },
  {
   "cell_type": "code",
   "execution_count": 24,
   "id": "50d0774f-0be0-4a73-9eaf-44b49c0f2183",
   "metadata": {},
   "outputs": [
    {
     "data": {
      "text/plain": [
       "<AxesSubplot:>"
      ]
     },
     "execution_count": 24,
     "metadata": {},
     "output_type": "execute_result"
    },
    {
     "data": {
      "image/png": "[encoded data removed]",
      "text/plain": [
       "<Figure size 432x288 with 2 Axes>"
      ]
     },
     "metadata": {
      "needs_background": "light"
     },
     "output_type": "display_data"
    }
   ],
   "source": [
    "sns.heatmap(data1.corr(),annot=True)"
   ]
  },
  {
   "cell_type": "code",
   "execution_count": 25,
   "id": "6ef15e53-ef1d-4219-bdfa-1b78c0ebc89d",
   "metadata": {},
   "outputs": [
    {
     "data": {
      "text/plain": [
       "<AxesSubplot:xlabel='Month', ylabel='count'>"
      ]
     },
     "execution_count": 25,
     "metadata": {},
     "output_type": "execute_result"
    },
    {
     "data": {
      "image/png": "[encoded data removed]",
      "text/plain": [
       "<Figure size 432x288 with 1 Axes>"
      ]
     },
     "metadata": {
      "needs_background": "light"
     },
     "output_type": "display_data"
    }
   ],
   "source": [
    "# ayliq aktivlik\n",
    "sns.countplot(data1['Month'])"
   ]
  },
  {
   "cell_type": "code",
   "execution_count": 26,
   "id": "016a42c7-bf3a-445a-adb2-8c3a1132ced4",
   "metadata": {},
   "outputs": [
    {
     "data": {
      "text/plain": [
       "<AxesSubplot:xlabel='hours', ylabel='count'>"
      ]
     },
     "execution_count": 26,
     "metadata": {},
     "output_type": "execute_result"
    },
    {
     "data": {
      "image/png": "[encoded data removed]",
      "text/plain": [
       "<Figure size 432x288 with 1 Axes>"
      ]
     },
     "metadata": {
      "needs_background": "light"
     },
     "output_type": "display_data"
    }
   ],
   "source": [
    "# saatliq aktivlik\n",
    "sns.countplot(data1['hours'])"
   ]
  },
  {
   "cell_type": "code",
   "execution_count": 27,
   "id": "2bd982a2-f58f-497b-9207-f9c5252e56cb",
   "metadata": {},
   "outputs": [
    {
     "data": {
      "text/plain": [
       "<AxesSubplot:xlabel='Weekday', ylabel='count'>"
      ]
     },
     "execution_count": 27,
     "metadata": {},
     "output_type": "execute_result"
    },
    {
     "data": {
      "image/png": "[encoded data removed]",
      "text/plain": [
       "<Figure size 432x288 with 1 Axes>"
      ]
     },
     "metadata": {
      "needs_background": "light"
     },
     "output_type": "display_data"
    }
   ],
   "source": [
    "# heftelik aktivlik\n",
    "sns.countplot(data1['Weekday'])"
   ]
  },
  {
   "cell_type": "code",
   "execution_count": 29,
   "id": "0a0e88ae-8dac-4294-96ca-e38c4385b9c5",
   "metadata": {},
   "outputs": [],
   "source": [
    "month_values = {}"
   ]
  },
  {
   "cell_type": "code",
   "execution_count": 30,
   "id": "cea9b4c3-a19a-4e33-91e2-38e298fb434c",
   "metadata": {},
   "outputs": [],
   "source": [
    "for x in range(12):\n",
    "    month_values[x + 1] = np.sum(list(filter(lambda value : value == (x + 1), data1['datetime'].dt.month.values)))"
   ]
  },
  {
   "cell_type": "code",
   "execution_count": 31,
   "id": "fb09bc79-a599-451a-8017-9fd6a566feda",
   "metadata": {},
   "outputs": [
    {
     "data": {
      "text/plain": [
       "Text(0, 0.5, 'Sum of attack attemps')"
      ]
     },
     "execution_count": 31,
     "metadata": {},
     "output_type": "execute_result"
    },
    {
     "data": {
      "image/png": "[encoded data removed]",
      "text/plain": [
       "<Figure size 1008x432 with 1 Axes>"
      ]
     },
     "metadata": {
      "needs_background": "light"
     },
     "output_type": "display_data"
    }
   ],
   "source": [
    "#  illik aktivlik\n",
    "plt.figure(figsize = (14, 6))\n",
    "plt.scatter(list(month_values), month_values.values(), c = list(month_values.values()), cmap = 'Blues', s = 100)\n",
    "plt.xlabel('Month', size = 16)\n",
    "plt.ylabel('Sum of attack attemps', size = 16)"
   ]
  },
  {
   "cell_type": "code",
   "execution_count": 32,
   "id": "bc732d94-e3eb-4f93-8eef-3d471c6a8501",
   "metadata": {},
   "outputs": [],
   "source": [
    "day_values = {}"
   ]
  },
  {
   "cell_type": "code",
   "execution_count": 33,
   "id": "9d77fa25-dea9-4932-9f80-52d98d0f400a",
   "metadata": {},
   "outputs": [],
   "source": [
    "for x in range(31):\n",
    "    day_values[x + 1] = np.sum(list(filter(lambda value : value == (x + 1), data1['datetime'].dt.day.values)))"
   ]
  },
  {
   "cell_type": "code",
   "execution_count": 34,
   "id": "89b244d0-25f5-4d93-b200-a81609505f02",
   "metadata": {},
   "outputs": [
    {
     "data": {
      "text/plain": [
       "Text(0, 0.5, 'Sum of attack attemps')"
      ]
     },
     "execution_count": 34,
     "metadata": {},
     "output_type": "execute_result"
    },
    {
     "data": {
      "image/png": "[encoded data removed]",
      "text/plain": [
       "<Figure size 1008x432 with 1 Axes>"
      ]
     },
     "metadata": {
      "needs_background": "light"
     },
     "output_type": "display_data"
    }
   ],
   "source": [
    "#ayliq aktivlik\n",
    "plt.figure(figsize = (14, 6))\n",
    "plt.scatter(list(day_values), day_values.values(), c = list(day_values.values()), cmap = 'Blues', s = 100)\n",
    "plt.xlabel('Day', size = 16)\n",
    "plt.ylabel('Sum of attack attemps', size = 16)"
   ]
  },
  {
   "cell_type": "code",
   "execution_count": 38,
   "id": "7eecc818-1b65-45c2-9286-3522be4d2489",
   "metadata": {},
   "outputs": [],
   "source": [
    "X = data1.iloc[:, :-1].values"
   ]
  },
  {
   "cell_type": "code",
   "execution_count": 39,
   "id": "17cca0a6-6cb4-43be-8b73-e50d7e91a3bb",
   "metadata": {},
   "outputs": [
    {
     "data": {
      "text/plain": [
       "<matplotlib.collections.PathCollection at 0x1e6c3695550>"
      ]
     },
     "execution_count": 39,
     "metadata": {},
     "output_type": "execute_result"
    },
    {
     "data": {
      "image/png": "[encoded data removed]",
      "text/plain": [
       "<Figure size 432x288 with 1 Axes>"
      ]
     },
     "metadata": {
      "needs_background": "light"
     },
     "output_type": "display_data"
    }
   ],
   "source": [
    "plt.scatter(X[:, 1], X[:, 0], alpha = 0.1, c = X[:, 0], s = 10)"
   ]
  },
  {
   "cell_type": "code",
   "execution_count": 43,
   "id": "05911982-c32b-4bc5-83c0-4e3901f66e2d",
   "metadata": {},
   "outputs": [],
   "source": [
    "d=data1"
   ]
  },
  {
   "cell_type": "code",
   "execution_count": null,
   "id": "c6d93727-a333-4b6c-9988-d4f61a725a56",
   "metadata": {
    "tags": []
   },
   "outputs": [],
   "source": [
    "%%time\n",
    "import numpy as np\n",
    "import pandas as pd\n",
    "from geopy.geocoders import Nominatim\n",
    "from geopy.point import Point\n",
    "geolocator = Nominatim(user_agent=\"test\")\n",
    "df=d[['lat','lng']]\n",
    "def reverse_geocoding(lat, lon):\n",
    "    try:\n",
    "        location = geolocator.reverse(Point(lat, lon))\n",
    "        return location.raw['display_name']\n",
    "    except:\n",
    "        return None\n",
    "\n",
    "df['address'] = np.vectorize(reverse_geocoding)(df['lat'], df['lng'])\n",
    "\n"
   ]
  },
  {
   "cell_type": "code",
   "execution_count": null,
   "id": "0e516760-fb02-4acd-8ff9-3818e63d1a00",
   "metadata": {},
   "outputs": [],
   "source": [
    "address=df"
   ]
  },
  {
   "cell_type": "code",
   "execution_count": null,
   "id": "d11c7a2f-3862-4bed-9313-d81f47bd210a",
   "metadata": {},
   "outputs": [],
   "source": [
    "data1"
   ]
  },
  {
   "cell_type": "code",
   "execution_count": null,
   "id": "5c44631a-5cf6-4af1-9bd0-785e5b411461",
   "metadata": {},
   "outputs": [],
   "source": [
    "addres[address['lat']==18.5196]"
   ]
  },
  {
   "cell_type": "code",
   "execution_count": null,
   "id": "a54e2a17-1adf-48a0-807d-80dc8bf1805f",
   "metadata": {},
   "outputs": [],
   "source": [
    "data_2=pd.merge(data1,addres, on=['lat', 'lng'],how='left')\n",
    "data_last=data_2"
   ]
  },
  {
   "cell_type": "code",
   "execution_count": null,
   "id": "cc629836-00b5-4833-b67b-6b5a288f0524",
   "metadata": {},
   "outputs": [],
   "source": [
    "#data_last.to_excel('output1.xlsx', engine='xlsxwriter')"
   ]
  },
  {
   "cell_type": "code",
   "execution_count": null,
   "id": "519bc7b9-5876-4e81-a228-16d698fe9d72",
   "metadata": {},
   "outputs": [],
   "source": [
    "data_last=pd.read_excel(r'C:\\Users\\Ismat\\OneDrive\\Рабочий стол\\projects\\analytics\\atacks.xlsx')\n",
    "data_last"
   ]
  },
  {
   "cell_type": "code",
   "execution_count": null,
   "id": "08474706-c7f9-4ef3-beba-a124da92a036",
   "metadata": {},
   "outputs": [],
   "source": [
    "j=data_last"
   ]
  },
  {
   "cell_type": "code",
   "execution_count": null,
   "id": "403043ff-8733-446e-82c5-a485fa1cdd9f",
   "metadata": {},
   "outputs": [],
   "source": [
    "adres=data_last['address']\n",
    "#j=adres.str.translate(j)"
   ]
  },
  {
   "cell_type": "code",
   "execution_count": null,
   "id": "e51611a6-2417-4131-941c-c48fbb14aeb4",
   "metadata": {},
   "outputs": [],
   "source": [
    "a"
   ]
  },
  {
   "cell_type": "code",
   "execution_count": null,
   "id": "87affb88-0395-4d8b-a43b-549b0a473c33",
   "metadata": {},
   "outputs": [],
   "source": [
    "\n",
    "\n",
    "j['country'] = [x.split(\",\")[-1] for x in j['address']]\n",
    "g=j['country'].value_counts().head(9)\n",
    "sns.lineplot(y=g.index,x=g,data=g)"
   ]
  },
  {
   "cell_type": "code",
   "execution_count": null,
   "id": "2ca9423e-0b70-4ae8-911c-014a847b7c72",
   "metadata": {},
   "outputs": [],
   "source": [
    "def isEnglish(s):\n",
    "  return s.isascii()\n",
    "\n",
    "print(isEnglish(\"Test\"))\n",
    "print(isEnglish(\"_1991_اف_جي2\"))"
   ]
  },
  {
   "cell_type": "code",
   "execution_count": null,
   "id": "2d1f9c65-43f0-4cf3-a71a-34a00e233c56",
   "metadata": {},
   "outputs": [],
   "source": [
    "j['isEnglish']=j['address'].apply(isEnglish)\n",
    "#j['country'][j['isEnglish']==True].value_counts()\n",
    "j"
   ]
  }
 ],
 "metadata": {
  "kernelspec": {
   "display_name": "Python 3 (ipykernel)",
   "language": "python",
   "name": "python3"
  },
  "language_info": {
   "codemirror_mode": {
    "name": "ipython",
    "version": 3
   },
   "file_extension": ".py",
   "mimetype": "text/x-python",
   "name": "python",
   "nbconvert_exporter": "python",
   "pygments_lexer": "ipython3",
   "version": "3.9.7"
  }
 },
 "nbformat": 4,
 "nbformat_minor": 5
}
